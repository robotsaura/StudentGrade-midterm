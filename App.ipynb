{
 "cells": [
  {
   "cell_type": "code",
   "execution_count": null,
   "id": "ff915be6",
   "metadata": {},
   "outputs": [],
   "source": [
    "import pickle\n",
    "from flask import Flask, request, render_template\n",
    "\n",
    "# Load the model, scaler, and label encoder\n",
    "with open('svc_model.pkl', 'rb') as model_file:\n",
    "    svc_model = pickle.load(model_file)\n",
    "    \n",
    "with open('scaler.pkl', 'rb') as scaler_file:\n",
    "    scaler = pickle.load(scaler_file)\n",
    "\n",
    "with open('label_encoder.pkl', 'rb') as encoder_file:\n",
    "    label_encoder = pickle.load(encoder_file)\n",
    "\n",
    "app = Flask(__name__)\n",
    "\n",
    "@app.route('/')\n",
    "def home():\n",
    "    return render_template('index.html')\n",
    "\n",
    "@app.route('/predict', methods=['POST'])\n",
    "def predict():\n",
    "    math = float(request.form['math'])\n",
    "    read = float(request.form['read'])\n",
    "    write = float(request.form['write'])\n",
    "    \n",
    "    # Prepare the input data\n",
    "    input_data = [[math, read, write]]\n",
    "    scaled_data = scaler.transform(input_data)\n",
    "    \n",
    "    # Predict the race category\n",
    "    prediction = svc_model.predict(scaled_data)\n",
    "    race_category = label_encoder.inverse_transform(prediction)[0]\n",
    "    \n",
    "    return f\"The predicted race category is: {race_category}\"\n",
    "\n",
    "if __name__ == '__main__':\n",
    "    app.run(debug=True)\n"
   ]
  }
 ],
 "metadata": {
  "kernelspec": {
   "display_name": "Python 3 (ipykernel)",
   "language": "python",
   "name": "python3"
  },
  "language_info": {
   "codemirror_mode": {
    "name": "ipython",
    "version": 3
   },
   "file_extension": ".py",
   "mimetype": "text/x-python",
   "name": "python",
   "nbconvert_exporter": "python",
   "pygments_lexer": "ipython3",
   "version": "3.11.5"
  }
 },
 "nbformat": 4,
 "nbformat_minor": 5
}

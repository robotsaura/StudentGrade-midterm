{
 "cells": [
  {
   "cell_type": "code",
   "execution_count": 1,
   "id": "9567775b",
   "metadata": {},
   "outputs": [
    {
     "name": "stdout",
     "output_type": "stream",
     "text": [
      "SVC Model Test Accuracy: 0.34\n"
     ]
    }
   ],
   "source": [
    "import pandas as pd\n",
    "from sklearn.model_selection import train_test_split\n",
    "from sklearn.preprocessing import StandardScaler, LabelEncoder\n",
    "from sklearn.svm import SVC\n",
    "from sklearn.metrics import accuracy_score\n",
    "import pickle\n",
    "\n",
    "# Load the dataset\n",
    "file_path = 'StudentsPerformance 2.csv'\n",
    "students = pd.read_csv(file_path)\n",
    "\n",
    "# Rename the columns\n",
    "students.rename(columns={\n",
    "    'race/ethnicity': 'race',\n",
    "    'math score': 'math',\n",
    "    'reading score': 'read',\n",
    "    'writing score': 'write'\n",
    "}, inplace=True)\n",
    "\n",
    "# Drop unnecessary columns and keep only 'race', 'math', 'read', and 'write'\n",
    "students = students[['race', 'math', 'read', 'write']]\n",
    "\n",
    "# Encode the 'race' column\n",
    "label_encoder = LabelEncoder()\n",
    "students['race'] = label_encoder.fit_transform(students['race'])\n",
    "\n",
    "# Define features and target variable\n",
    "X = students[['math', 'read', 'write']]\n",
    "y = students['race']\n",
    "\n",
    "# Split the dataset into training (75%) and test (25%) sets\n",
    "X_train, X_test, y_train, y_test = train_test_split(X, y, test_size=0.25, random_state=42, stratify=y)\n",
    "\n",
    "# Standardize the features\n",
    "scaler = StandardScaler()\n",
    "X_train = scaler.fit_transform(X_train)\n",
    "X_test = scaler.transform(X_test)\n",
    "\n",
    "# Train the SVC model\n",
    "svc_model = SVC(random_state=42)\n",
    "svc_model.fit(X_train, y_train)\n",
    "\n",
    "# Predict on the test set\n",
    "y_pred = svc_model.predict(X_test)\n",
    "\n",
    "# Evaluate the model's accuracy on the test set\n",
    "accuracy = accuracy_score(y_test, y_pred)\n",
    "print(f\"SVC Model Test Accuracy: {accuracy:.2f}\")\n",
    "\n",
    "# Save the model and scaler as a pickle file\n",
    "with open('svc_model.pkl', 'wb') as model_file:\n",
    "    pickle.dump(svc_model, model_file)\n",
    "    \n",
    "with open('scaler.pkl', 'wb') as scaler_file:\n",
    "    pickle.dump(scaler, scaler_file)\n",
    "    \n",
    "with open('label_encoder.pkl', 'wb') as encoder_file:\n",
    "    pickle.dump(label_encoder, encoder_file)\n"
   ]
  },
  {
   "cell_type": "code",
   "execution_count": null,
   "id": "fb52e0eb",
   "metadata": {},
   "outputs": [],
   "source": []
  }
 ],
 "metadata": {
  "kernelspec": {
   "display_name": "Python 3 (ipykernel)",
   "language": "python",
   "name": "python3"
  },
  "language_info": {
   "codemirror_mode": {
    "name": "ipython",
    "version": 3
   },
   "file_extension": ".py",
   "mimetype": "text/x-python",
   "name": "python",
   "nbconvert_exporter": "python",
   "pygments_lexer": "ipython3",
   "version": "3.11.5"
  }
 },
 "nbformat": 4,
 "nbformat_minor": 5
}
